{
 "cells": [
  {
   "cell_type": "markdown",
   "metadata": {},
   "source": [
    "### How to Implement LoRA Using nn.Linear and nn.Conv1d\n",
    "In some LoRA implementation, there is a module called `MergedLinear`, which contains a `nn.Linear` as lora_A and `nn.Conv1D` as lora_B"
   ]
  },
  {
   "cell_type": "code",
   "execution_count": 36,
   "metadata": {},
   "outputs": [
    {
     "name": "stdout",
     "output_type": "stream",
     "text": [
      "torch.Size([12288, 4096])\n",
      "torch.Size([16, 4096])\n",
      "torch.Size([8192, 8, 1])\n"
     ]
    }
   ],
   "source": [
    "# PyTorch and its submodules are imported\n",
    "import torch.nn as nn\n",
    "import torch\n",
    "import torch.nn.functional as F\n",
    "\n",
    "# Set the random seed for reproducibility\n",
    "torch.manual_seed(0)\n",
    "\n",
    "# r is the rank of the LoRA layer\n",
    "r = 8 \n",
    "\n",
    "# This list indicates whether or not to use LoRA for each output group\n",
    "enable_lora = [True, False, True]\n",
    "\n",
    "# The size of the input and output features\n",
    "in_features = 4096\n",
    "out_features = 4096*3\n",
    "\n",
    "# The target model is defined as a linear layer without bias\n",
    "target = nn.Linear(in_features, out_features, bias=False)\n",
    "\n",
    "# Initialize a boolean tensor to hold LoRA indicators for each output feature\n",
    "lora_ind = torch.zeros((out_features,), dtype=torch.bool).view(len(enable_lora), -1) \n",
    "\n",
    "# Set the LoRA indicators according to the enable_lora list\n",
    "lora_ind[enable_lora, :] = True\n",
    "\n",
    "# Flatten the LoRA indicators\n",
    "lora_ind = lora_ind.view(-1)\n",
    "\n",
    "# The LoRA A module is defined as a linear layer\n",
    "lora_A = nn.Linear(in_features, r * sum(enable_lora), bias=False)\n",
    "\n",
    "# The LoRA B module is defined as a 1D convolutional layer\n",
    "lora_B = nn.Conv1d(\n",
    "    r * sum(enable_lora),\n",
    "    out_features // len(enable_lora) * sum(enable_lora),\n",
    "    kernel_size=1,\n",
    "    groups=sum(enable_lora),\n",
    "    bias=False,\n",
    ")\n",
    "\n",
    "# Initialize the weights of the LoRA A and B modules with random values\n",
    "lora_A.weight = torch.nn.Parameter(torch.rand(lora_A.weight.shape))\n",
    "lora_B.weight = torch.nn.Parameter(torch.rand(lora_B.weight.shape))\n",
    "\n",
    "# Print the shapes of the weights in the target, LoRA A, and LoRA B modules\n",
    "print(target.weight.shape)\n",
    "print(lora_A.weight.shape)\n",
    "print(lora_B.weight.shape)"
   ]
  },
  {
   "cell_type": "code",
   "execution_count": 37,
   "metadata": {},
   "outputs": [
    {
     "name": "stdout",
     "output_type": "stream",
     "text": [
      "x torch.Size([2, 500, 4096])\n",
      "torch.Size([2, 500, 16])\n",
      "torch.Size([2, 500, 8192])\n",
      "torch.Size([2, 500, 12288])\n"
     ]
    }
   ],
   "source": [
    "# set the batch size and token length\n",
    "x_batch_size = 2\n",
    "x_token_len = 500\n",
    "\n",
    "# function to pad the input tensor with zeros\n",
    "def zero_pad(x):\n",
    "    # create a new tensor filled with zeros which has the same shape as the input tensor\n",
    "    result = x.new_zeros((*x.shape[:-1], out_features))\n",
    "    # reshape the tensor to 2-D (with the second dimension being 'out_features')\n",
    "    result = result.view(-1, out_features)\n",
    "    # fill the specified indices in the reshaped tensor with values from the input tensor, reshaped as necessary\n",
    "    result[:, lora_ind] = x.reshape(-1, out_features // len(enable_lora) * sum(enable_lora))\n",
    "    # reshape the result back to the original shape of the input tensor\n",
    "    return result.view((*x.shape[:-1], out_features))\n",
    "\n",
    "# create a tensor filled with ones, with dimensions defined by batch size, token length, and in_features\n",
    "x = torch.ones((x_batch_size, x_token_len, in_features))\n",
    "print('x', x.shape)\n",
    "# pass the tensor through the lora_A function and convert its data type to match the weight of lora_A\n",
    "after_A = lora_A(x.to(lora_A.weight.dtype))\n",
    "print(after_A.shape)\n",
    "# transpose the last two dimensions of the output from lora_A, pass it through the lora_B function, then transpose the last two dimensions back\n",
    "after_B = lora_B(after_A.transpose(-2, -1)).transpose(-2, -1)\n",
    "print(after_B.shape)\n",
    "# pad the output from lora_B with zeros using the zero_pad function\n",
    "result = zero_pad(after_B)\n",
    "print(result.shape)"
   ]
  },
  {
   "cell_type": "code",
   "execution_count": 38,
   "metadata": {},
   "outputs": [
    {
     "name": "stdout",
     "output_type": "stream",
     "text": [
      "True\n",
      "True\n"
     ]
    }
   ],
   "source": [
    "delta_W_A_Q = lora_A.weight[:8, :]\n",
    "delta_W_A_V = lora_A.weight[8:, :]\n",
    "delta_W_B_Q = lora_B.weight[:in_features, :,0]\n",
    "delta_W_B_V = lora_B.weight[in_features:, :,0]\n",
    "after_AB_Q = F.linear(x, (delta_W_B_Q @ delta_W_A_Q))\n",
    "after_AB_V = F.linear(x, (delta_W_B_V @ delta_W_A_V))\n",
    "print(torch.allclose(after_AB_Q, result[:,:,:in_features]))\n",
    "print(torch.allclose(after_AB_V, result[:,:,in_features*2:]))"
   ]
  }
 ],
 "metadata": {
  "kernelspec": {
   "display_name": "Python 3",
   "language": "python",
   "name": "python3"
  },
  "language_info": {
   "codemirror_mode": {
    "name": "ipython",
    "version": 3
   },
   "file_extension": ".py",
   "mimetype": "text/x-python",
   "name": "python",
   "nbconvert_exporter": "python",
   "pygments_lexer": "ipython3",
   "version": "3.10.10"
  },
  "orig_nbformat": 4
 },
 "nbformat": 4,
 "nbformat_minor": 2
}
